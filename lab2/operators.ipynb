{
 "cells": [
  {
   "cell_type": "markdown",
   "metadata": {},
   "source": [
    "# Python Operators"
   ]
  },
  {
   "cell_type": "markdown",
   "metadata": {},
   "source": [
    "Operators are used to perform operations on variables and values.\n",
    "\n",
    "In the example below, we use the + operator to add together two values:"
   ]
  },
  {
   "cell_type": "markdown",
   "metadata": {},
   "source": [
    "### Example:"
   ]
  },
  {
   "cell_type": "code",
   "execution_count": null,
   "metadata": {
    "vscode": {
     "languageId": "plaintext"
    }
   },
   "outputs": [],
   "source": [
    "print(10 + 5)"
   ]
  },
  {
   "cell_type": "markdown",
   "metadata": {},
   "source": [
    "Python divides the operators in the following groups:\n",
    "* Arithmetic operators\n",
    "* Assignment operators\n",
    "* Comparison operators\n",
    "* Logical operators\n",
    "* Identity operators\n",
    "* Membership operators\n",
    "* Bitwise operators"
   ]
  },
  {
   "cell_type": "markdown",
   "metadata": {},
   "source": [
    "## Python Atithmetic Operations\n",
    "Arithmetic operators are used with numeric values to perform common mathematical operations:\n",
    "Operator \tName \t               Example \t\n",
    "+ \t       Addition \t           x + y \t\n",
    "- \t       Subtraction \t           x - y \t\n",
    "* \t       Multiplication          x * y \t\n",
    "/ \t       Division \t           x / y \t\n",
    "% \t       Modulus \t               x % y \t\n",
    "**         Exponentiation \t       x ** y \t\n",
    "// \t       Floor division \t       x // y"
   ]
  },
  {
   "cell_type": "markdown",
   "metadata": {},
   "source": [
    "## Python Comparison Operators\n",
    "Operator \tName \t                    Example\n",
    "== \t        Equal \t                    x == y \t\n",
    "!= \t        Not equal \t                x != y \t\n",
    "> \t        Greater than \t            x > y \t\n",
    "< \t        Less than \t                x < y \t\n",
    ">= \t        Greater than or equal to \tx >= y \t\n",
    "<= \t        Less than or equal to \t    x <= y"
   ]
  },
  {
   "cell_type": "markdown",
   "metadata": {},
   "source": [
    "## Python Logical Operators\n",
    "Logical operators are used to combine conditional statements:\n",
    "Operator \tDescription \t                                            Example \t\n",
    "and  \t    Returns True if both statements are true \t                x < 5 and  x < 10 \t\n",
    "or          Returns True if one of the statements is true \t            x < 5 or x < 4 \t\n",
    "not \t    Reverse the result, returns False if the result is true \tnot(x < 5 and x < 10)"
   ]
  },
  {
   "cell_type": "markdown",
   "metadata": {},
   "source": [
    "## Python Bitwise Operators\n",
    "Bitwise operators are used to compare (binary) numbers:\n",
    "Operator \tName \t                    Description \t                                                                                            Example \t\n",
    "&  \t        AND \t                    Sets each bit to 1 if both bits are 1 \t                                                                    x & y \t\n",
    "| \t        OR \t                        Sets each bit to 1 if one of two bits is 1 \t                                                                x | y \t\n",
    "^ \t        XOR \t                    Sets each bit to 1 if only one of two bits is 1 \t                                                        x ^ y \t\n",
    "~ \t        NOT \t                    Inverts all the bits \t                                                                                    ~x \t\n",
    "<< \t        Zero fill left shift \t    Shift left by pushing zeros in from the right and let the leftmost bits fall off \t                        x << 2 \t\n",
    ">> \t        Signed right shift \t        Shift right by pushing copies of the leftmost bit in from the left, and let the rightmost bits fall off \tx >> 2\n",
    "     \n",
    "\n"
   ]
  }
 ],
 "metadata": {
  "language_info": {
   "name": "python"
  }
 },
 "nbformat": 4,
 "nbformat_minor": 2
}
